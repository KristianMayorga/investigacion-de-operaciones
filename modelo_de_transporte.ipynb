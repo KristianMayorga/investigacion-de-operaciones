{
  "cells": [
    {
      "cell_type": "markdown",
      "metadata": {
        "id": "view-in-github",
        "colab_type": "text"
      },
      "source": [
        "<a href=\"https://colab.research.google.com/github/KristianMayorga/investigacion-de-operaciones/blob/master/modelo_de_transporte.ipynb\" target=\"_parent\"><img src=\"https://colab.research.google.com/assets/colab-badge.svg\" alt=\"Open In Colab\"/></a>"
      ]
    },
    {
      "cell_type": "code",
      "execution_count": 4,
      "metadata": {
        "colab": {
          "base_uri": "https://localhost:8080/",
          "height": 393
        },
        "id": "loHFALYDyDQ1",
        "outputId": "631d8d6d-bdae-40a1-bd5d-8241d7b057ce"
      },
      "outputs": [
        {
          "output_type": "error",
          "ename": "ModuleNotFoundError",
          "evalue": "ignored",
          "traceback": [
            "\u001b[0;31m---------------------------------------------------------------------------\u001b[0m",
            "\u001b[0;31mModuleNotFoundError\u001b[0m                       Traceback (most recent call last)",
            "\u001b[0;32m<ipython-input-4-656de81d297c>\u001b[0m in \u001b[0;36m<module>\u001b[0;34m\u001b[0m\n\u001b[1;32m      5\u001b[0m \u001b[0;34m\u001b[0m\u001b[0m\n\u001b[1;32m      6\u001b[0m \u001b[0;31m# Importar la librería de Google OR-Tools\u001b[0m\u001b[0;34m\u001b[0m\u001b[0;34m\u001b[0m\u001b[0;34m\u001b[0m\u001b[0m\n\u001b[0;32m----> 7\u001b[0;31m \u001b[0;32mimport\u001b[0m \u001b[0mpywraplp\u001b[0m\u001b[0;34m\u001b[0m\u001b[0;34m\u001b[0m\u001b[0m\n\u001b[0m\u001b[1;32m      8\u001b[0m \u001b[0;34m\u001b[0m\u001b[0m\n\u001b[1;32m      9\u001b[0m \u001b[0;31m# Declarar el solucionador que abordará el modelo\u001b[0m\u001b[0;34m\u001b[0m\u001b[0;34m\u001b[0m\u001b[0;34m\u001b[0m\u001b[0m\n",
            "\u001b[0;31mModuleNotFoundError\u001b[0m: No module named 'pywraplp'",
            "",
            "\u001b[0;31m---------------------------------------------------------------------------\u001b[0;32m\nNOTE: If your import is failing due to a missing package, you can\nmanually install dependencies using either !pip or !apt.\n\nTo view examples of installing some common dependencies, click the\n\"Open Examples\" button below.\n\u001b[0;31m---------------------------------------------------------------------------\u001b[0m\n"
          ],
          "errorDetails": {
            "actions": [
              {
                "action": "open_url",
                "actionText": "Open Examples",
                "url": "/notebooks/snippets/importing_libraries.ipynb"
              }
            ]
          }
        }
      ],
      "source": [
        "#Kristian Ferley Mayorga Sarmiento \n",
        "#20202020046\n",
        "# Investigacion de operaciones 1\n",
        "# Modelo del transporte\n",
        "\n",
        "# Importar la librería de Google OR-Tools\n",
        "import pywraplp\n",
        "\n",
        "# Declarar el solucionador que abordará el modelo\n",
        "solver = pywraplp.Solver.CreateSolver('SCIP')\n",
        "\n",
        "# Data del modelo\n",
        "costos = [\n",
        "    [ 80, 215],\n",
        "    [100, 108],\n",
        "    [102,  68],\n",
        "]\n",
        "\n",
        "plantas = ['almacen 1', 'almacen 2', 'almacen 3']\n",
        "cedis = ['fabrica 1', 'fabrica 2']\n",
        "\n",
        "num_plantas = len(costos)\n",
        "num_cedis = len(costos[0])\n",
        "\n",
        "# Variables del modelo\n",
        "x = {}\n",
        "for i in range(num_plantas):\n",
        "    for j in range(num_cedis):\n",
        "        x[i, j] = solver.IntVar(0, solver.infinity(), '')\n",
        "        \n",
        "#Restricciones de disponibilidad (oferta en plantas) \n",
        "solver.Add(solver.Sum([x[0, j] for j in range(num_cedis)]) <= 1000) \n",
        "solver.Add(solver.Sum([x[1, j] for j in range(num_cedis)]) <= 1500) \n",
        "solver.Add(solver.Sum([x[2, j] for j in range(num_cedis)]) <= 1200) \n",
        "\n",
        "#Restricciones de demanda (cedis) \n",
        "solver.Add(solver.Sum([x[i, 0] for i in range(num_plantas)]) >= 2300) \n",
        "solver.Add(solver.Sum([x[i, 1] for i in range(num_plantas)]) >= 1400)      \n",
        "\n",
        "\n",
        "\n",
        "# Función objetivo con criterio de optimización: minimizar\n",
        "objective_terms = []\n",
        "for i in range(num_plantas):\n",
        "    for j in range(num_cedis):\n",
        "        objective_terms.append(costos[i][j] * x[i, j])\n",
        "\n",
        "solver.Minimize(solver.Sum(objective_terms))\n",
        "\n",
        "# Invoca el solucionador\n",
        "status = solver.Solve()\n",
        "\n",
        "# Configura los parámetros de impresión, las salidas del modelo\n",
        "if status == pywraplp.Solver.OPTIMAL or status == pywraplp.Solver.FEASIBLE:\n",
        "    print('Costo total = ', solver.Objective().Value(), '\\n')\n",
        "\n",
        "    for i in range(num_plantas):\n",
        "        for j in range(num_cedis):\n",
        "            print('|{:^20} -> {:^20} | Cantidad: {:^20}|'.format(\n",
        "            plantas[i],\n",
        "            cedis[j],\n",
        "            x[i, j].solution_value()))"
      ]
    }
  ],
  "metadata": {
    "colab": {
      "provenance": [],
      "authorship_tag": "ABX9TyOKizrmJ8l6yVbcH0dNzwE5",
      "include_colab_link": true
    },
    "kernelspec": {
      "display_name": "Python 3",
      "name": "python3"
    },
    "language_info": {
      "name": "python"
    }
  },
  "nbformat": 4,
  "nbformat_minor": 0
}