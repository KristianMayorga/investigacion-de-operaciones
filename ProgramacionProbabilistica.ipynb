{
  "nbformat": 4,
  "nbformat_minor": 0,
  "metadata": {
    "colab": {
      "provenance": [],
      "authorship_tag": "ABX9TyOeEHK7N45Q97po/V/QWABm",
      "include_colab_link": true
    },
    "kernelspec": {
      "name": "python3",
      "display_name": "Python 3"
    },
    "language_info": {
      "name": "python"
    }
  },
  "cells": [
    {
      "cell_type": "markdown",
      "metadata": {
        "id": "view-in-github",
        "colab_type": "text"
      },
      "source": [
        "<a href=\"https://colab.research.google.com/github/KristianMayorga/investigacion-de-operaciones/blob/master/ProgramacionProbabilistica.ipynb\" target=\"_parent\"><img src=\"https://colab.research.google.com/assets/colab-badge.svg\" alt=\"Open In Colab\"/></a>"
      ]
    },
    {
      "cell_type": "code",
      "execution_count": 35,
      "metadata": {
        "colab": {
          "base_uri": "https://localhost:8080/"
        },
        "id": "c8fE2FE74wtZ",
        "outputId": "7168c716-8bae-49c5-e765-5b22d7a3941c"
      },
      "outputs": [
        {
          "output_type": "stream",
          "name": "stdout",
          "text": [
            "k(x(n))= 3.0\n",
            "f(nk+1))= 16.0\n"
          ]
        }
      ],
      "source": [
        "#Kristian Ferley Mayorga Sarmiento \n",
        "#20202020046\n",
        "#Investigacion de operaciones\n",
        "#Programacion dinamica probabilistica\n",
        "\n",
        "#definimos los datos del ejercicio\n",
        "costoMontar=300\n",
        "costoMarginal=100\n",
        "penalizacion=1600\n",
        "etapas=3;\n",
        "\n",
        "#encontramos las variables del ejercicio\n",
        "kx=costoMontar/costoMarginal\n",
        "fn=penalizacion/costoMarginal\n",
        "\n",
        "res=0\n",
        "aux=0\n",
        "print(\"k(x(n))= \"+str(kx))\n",
        "print(\"f(nk+1))= \"+str(fn))"
      ]
    },
    {
      "cell_type": "code",
      "source": [
        "#realizamos las diferentes operaciones entre las etapas\n",
        "for j in reversed(range(etapas)):\n",
        "  for i in range(5):\n",
        "    if(i==0):\n",
        "      aux=fn\n",
        "    res=i+kx+((1/2)**i)*fn \n",
        "    if(res<=aux):\n",
        "      aux=res\n",
        "  fn=aux    \n",
        "  #imprimimos el resultado  \n",
        "  print(\"Resultado etapa \"+str(j+1)+\" es: \"+str(aux))"
      ],
      "metadata": {
        "colab": {
          "base_uri": "https://localhost:8080/"
        },
        "id": "yWx1p8uJ6-_F",
        "outputId": "bbc5b3dc-5034-434f-cb9f-398ddac2a2f7"
      },
      "execution_count": 36,
      "outputs": [
        {
          "output_type": "stream",
          "name": "stdout",
          "text": [
            "Resultado etapa 3 es: 8.0\n",
            "Resultado etapa 2 es: 7.0\n",
            "Resultado etapa 1 es: 6.75\n"
          ]
        }
      ]
    }
  ]
}