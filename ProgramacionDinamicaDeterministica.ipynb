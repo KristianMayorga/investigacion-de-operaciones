{
  "nbformat": 4,
  "nbformat_minor": 0,
  "metadata": {
    "colab": {
      "provenance": [],
      "authorship_tag": "ABX9TyPzOwDc0HqNVuE1GgD2ESAA",
      "include_colab_link": true
    },
    "kernelspec": {
      "name": "python3",
      "display_name": "Python 3"
    },
    "language_info": {
      "name": "python"
    }
  },
  "cells": [
    {
      "cell_type": "markdown",
      "metadata": {
        "id": "view-in-github",
        "colab_type": "text"
      },
      "source": [
        "<a href=\"https://colab.research.google.com/github/KristianMayorga/investigacion-de-operaciones/blob/master/ProgramacionDinamicaDeterministica.ipynb\" target=\"_parent\"><img src=\"https://colab.research.google.com/assets/colab-badge.svg\" alt=\"Open In Colab\"/></a>"
      ]
    },
    {
      "cell_type": "code",
      "execution_count": 2,
      "metadata": {
        "id": "jddykFt5mhtq"
      },
      "outputs": [],
      "source": [
        "#Kristian Ferley Mayorga Sarmiento\n",
        "#20202020046\n",
        "#Investigacion de operaciones 1\n",
        "# programacion dinamica deterministica \n",
        "\n",
        "\n",
        "import matplotlib as mpl\n",
        "import matplotlib.pyplot as plt\n",
        "import networkx as nx\n",
        "import numpy as np\n",
        "\n",
        "class Grafo:\n",
        "  #\n",
        "  def __init__(self,aristas, nodos):\n",
        "    #inicializa un grafo vacio\n",
        "    self.G=nx.DiGraph()\n",
        "    #agrega los nodos y aristas\n",
        "    self.aristas=aristas\n",
        "    self.nodos=nodos\n",
        "    for i in aristas:\n",
        "      for j in i:\n",
        "        self.G.add_edge(j[0],j[1],weight=j[2])\n",
        "\n",
        "  def __hallar(self,origen,destino,i=-1,r={},min=True):\n",
        "    #Si el indice en el que se está mirando corresponde a la capa cero de aristas se termina el proceso\n",
        "    if len(self.aristas)+i<0:\n",
        "      return r\n",
        "    #Se recorren las aristas en la capa i\n",
        "    for j in self.aristas[i]:\n",
        "      #Si el destino de la arista coincide con el destino entonces se asigna inmediatemante el peso hasta la arista\n",
        "      if(j[1]==destino):\n",
        "        r[j[0]]=(j[1],j[2])\n",
        "      else:\n",
        "        #Primero se asigna un valaor muy grande o muy pequeño, dependiendo de si se está optimizando o minimizando\n",
        "        if not (j[0] in r):\n",
        "          r[j[0]]=(None,np.infty if min else -np.infty)\n",
        "        else:\n",
        "          #Si se está minimizando y el camino evaluado desde un nodo hasta otro es menor que el peso asignado anteriormente, entonces se remplaza\n",
        " #         if (j[2]+r[j[1]][1])r[j[0]][1] and not min:\n",
        "            r[j[0]]=(j[1],j[2]+r[j[1]][1])\n",
        "    #Cuando se termina con la capa i, se procede con la capa i-1\n",
        "    return self.__hallar(origen,destino,i-1,r,min)\n",
        "    \n",
        "  def caminoA(self,origen,destino,min=True):\n",
        "    #CaminoA es un método que sirve para juntar la ruta directamente\n",
        "    r=self.__hallar(origen,destino,min=min)\n",
        "    camino=[origen]\n",
        "    while camino[-1]!=destino:\n",
        "      camino.append(r[camino[-1]][0])\n",
        "    return camino,r[camino[0]][1]\n"
      ]
    },
    {
      "cell_type": "code",
      "source": [
        "\n",
        "aristas=[[(1,2,8),(1,3,7),(1,4,8)],\n",
        "         \n",
        "         [(2,5,9),(2,6,10),\n",
        "         (3,5,5),(3,6,7),(3,7,5),(3,8,6),\n",
        "         (4,7,8),(4,8,14)],\n",
        "         \n",
        "         [(5,9,8),(5,10,6),\n",
        "         (6,9,4),(6,10,3),\n",
        "         (7,9,11),(7,10,8),(7,11,7),\n",
        "         (8,10,12),(8,11,6)],\n",
        "         \n",
        "         [(9,12,14),\n",
        "         (10,12,6),\n",
        "         (11,12,15)]]\n",
        "nodos=[[1],[2,3,4],[5,6,7,8],[9,10,11],[12]]"
      ],
      "metadata": {
        "id": "Ed2ZdrSWm2GY"
      },
      "execution_count": 3,
      "outputs": []
    },
    {
      "cell_type": "code",
      "source": [],
      "metadata": {
        "id": "6zTHtPStm3f4"
      },
      "execution_count": 2,
      "outputs": []
    }
  ]
}