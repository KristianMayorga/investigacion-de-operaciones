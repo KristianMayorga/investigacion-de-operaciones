{
  "nbformat": 4,
  "nbformat_minor": 0,
  "metadata": {
    "colab": {
      "provenance": [],
      "authorship_tag": "ABX9TyMCCZml2W5r9eArMP6dDieQ",
      "include_colab_link": true
    },
    "kernelspec": {
      "name": "python3",
      "display_name": "Python 3"
    },
    "language_info": {
      "name": "python"
    }
  },
  "cells": [
    {
      "cell_type": "markdown",
      "metadata": {
        "id": "view-in-github",
        "colab_type": "text"
      },
      "source": [
        "<a href=\"https://colab.research.google.com/github/KristianMayorga/POO1/blob/master/ProgramacionDinamicaDeterministica.ipynb\" target=\"_parent\"><img src=\"https://colab.research.google.com/assets/colab-badge.svg\" alt=\"Open In Colab\"/></a>"
      ]
    },
    {
      "cell_type": "code",
      "execution_count": null,
      "metadata": {
        "colab": {
          "base_uri": "https://localhost:8080/",
          "height": 135
        },
        "id": "jddykFt5mhtq",
        "outputId": "b9736fcb-71f2-4339-dc85-7f640428f4e5"
      },
      "outputs": [
        {
          "output_type": "error",
          "ename": "SyntaxError",
          "evalue": "ignored",
          "traceback": [
            "\u001b[0;36m  File \u001b[0;32m\"<ipython-input-1-039cff95fa1c>\"\u001b[0;36m, line \u001b[0;32m33\u001b[0m\n\u001b[0;31m    if (j[2]+r[j[1]][1])r[j[0]][1] and not min:\u001b[0m\n\u001b[0m                        ^\u001b[0m\n\u001b[0;31mSyntaxError\u001b[0m\u001b[0;31m:\u001b[0m invalid syntax\n"
          ]
        }
      ],
      "source": [
        "#Kristian Ferley Mayorga Sarmiento\n",
        "#20202020046\n",
        "#Investigacion de operaciones 1\n",
        "# programacion dinamica deterministica \n",
        "\n",
        "\n",
        "\n",
        "#importamos las librerias\n",
        "import matplotlib as mpl\n",
        "import matplotlib.pyplot as plt\n",
        "import networkx as nx\n",
        "import numpy as np\n",
        "\n",
        "class main:\n",
        "  def __init__(self,aristas, nodos):\n",
        "    #inicializa un grafo vacio\n",
        "    self.G=nx.DiGraph()\n",
        "    #agrega los nodos y aristas\n",
        "    self.aristas=aristas\n",
        "    self.nodos=nodos\n",
        "    for i in aristas:\n",
        "      for j in i:\n",
        "        self.G.add_edge(j[0],j[1],weight=j[2])\n",
        "\n",
        "  def __hallar(self,origen,destino,i=-1,r={},min=True):\n",
        "    #Este método se encarga de encontrar el valor minimo desde un nodo hasta el destino\n",
        "    #Si el indice en el que se está mirando corresponde a la capa cero de aristas se termina el proceso\n",
        "    if len(self.aristas)+i<0:\n",
        "      return r\n",
        "    #Se recorren las aristas en la capa i\n",
        "    for j in self.aristas[i]:\n",
        "      #Si el destino de la arista coincide con el destino entonces se asigna inmediatemante el peso hasta la arista\n",
        "      if(j[1]==destino):\n",
        "        r[j[0]]=(j[1],j[2])\n",
        "      else:\n",
        "        #Primero se asigna un valaor muy grande o muy pequeño, dependiendo de si se está optimizando o minimizando\n",
        "        if not (j[0] in r):\n",
        "          r[j[0]]=(None,np.infty if min else -np.infty)\n",
        "        else:\n",
        "          #Si se está minimizando y el camino evaluado desde un nodo hasta otro es menor que el peso asignado anteriormente, entonces se remplaza\n",
        "          if (j[2]+r[j[1]][1])r[j[0]][1] and not min:\n",
        "            r[j[0]]=(j[1],j[2]+r[j[1]][1])\n",
        "    #Cuando se termina con la capa i, se procede con la capa i-1\n",
        "    return self.__hallar(origen,destino,i-1,r,min)\n",
        "    \n",
        "  def caminoA(self,origen,destino,min=True):\n",
        "    #CaminoA es un método que sirve para juntar la ruta directamente\n",
        "    r=self.__hallar(origen,destino,min=min)\n",
        "    camino=[origen]\n",
        "    while camino[-1]!=destino:\n",
        "      camino.append(r[camino[-1]][0])\n",
        "    return camino,r[camino[0]][1]\n",
        "    "
      ]
    },
    {
      "cell_type": "code",
      "source": [
        "\n",
        "aristas=[[(1,2,8),(1,3,7),(1,4,8)],\n",
        "         \n",
        "         [(2,5,9),(2,6,10),\n",
        "         (3,5,5),(3,6,7),(3,7,5),(3,8,6),\n",
        "         (4,7,8),(4,8,14)],\n",
        "         \n",
        "         [(5,9,8),(5,10,6),\n",
        "         (6,9,4),(6,10,3),\n",
        "         (7,9,11),(7,10,8),(7,11,7),\n",
        "         (8,10,12),(8,11,6)],\n",
        "         \n",
        "         [(9,12,14),\n",
        "         (10,12,6),\n",
        "         (11,12,15)]]\n",
        "nodos=[[1],[2,3,4],[5,6,7,8],[9,10,11],[12]]"
      ],
      "metadata": {
        "id": "Ed2ZdrSWm2GY"
      },
      "execution_count": null,
      "outputs": []
    },
    {
      "cell_type": "code",
      "source": [
        "G.caminoA(1,12)"
      ],
      "metadata": {
        "colab": {
          "base_uri": "https://localhost:8080/",
          "height": 172
        },
        "id": "6zTHtPStm3f4",
        "outputId": "b47d2ad5-2158-4dc3-afb5-531b663a8770"
      },
      "execution_count": null,
      "outputs": [
        {
          "output_type": "error",
          "ename": "NameError",
          "evalue": "ignored",
          "traceback": [
            "\u001b[0;31m---------------------------------------------------------------------------\u001b[0m",
            "\u001b[0;31mNameError\u001b[0m                                 Traceback (most recent call last)",
            "\u001b[0;32m<ipython-input-3-5cd7ead8012c>\u001b[0m in \u001b[0;36m<module>\u001b[0;34m\u001b[0m\n\u001b[0;32m----> 1\u001b[0;31m \u001b[0mG\u001b[0m\u001b[0;34m.\u001b[0m\u001b[0mcaminoA\u001b[0m\u001b[0;34m(\u001b[0m\u001b[0;36m1\u001b[0m\u001b[0;34m,\u001b[0m\u001b[0;36m12\u001b[0m\u001b[0;34m)\u001b[0m\u001b[0;34m\u001b[0m\u001b[0;34m\u001b[0m\u001b[0m\n\u001b[0m",
            "\u001b[0;31mNameError\u001b[0m: name 'G' is not defined"
          ]
        }
      ]
    }
  ]
}